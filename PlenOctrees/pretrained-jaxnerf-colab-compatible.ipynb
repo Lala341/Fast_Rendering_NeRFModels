{
 "cells": [
  {
   "cell_type": "markdown",
   "metadata": {},
   "source": [
    "This notebook allows you to run the plenoctrees conversion of a jaxnerf checkpoint. It takes as input a JaxNeRF checkpoint file and outputs a .npz optmized plenoctree file, which can optionally be compressed into the same file format. This can then be used to be rendered on the given volrend or nerfvis methods.\n",
    "\n",
    "Note that the same code can also be used for NeRF-SH inputs, you'll just have to remove the -s_jaxnerf argument in the python execution code for extraction."
   ]
  },
  {
   "cell_type": "markdown",
   "metadata": {
    "heading_collapsed": true,
    "id": "o6Dq1MQwwn3H"
   },
   "source": [
    "# Input & Google Drive setup"
   ]
  },
  {
   "cell_type": "code",
   "execution_count": null,
   "metadata": {
    "hidden": true
   },
   "outputs": [],
   "source": [
    "# If running on google colab, execute this to mount to your google drive\n",
    "from google.colab import drive\n",
    "drive.mount(\"/content/drive\", force_remount=True)"
   ]
  },
  {
   "cell_type": "code",
   "execution_count": 1,
   "metadata": {
    "executionInfo": {
     "elapsed": 8,
     "status": "ok",
     "timestamp": 1708520700543,
     "user": {
      "displayName": "Laura Forero",
      "userId": "12790703409779099082"
     },
     "user_tz": -60
    },
    "hidden": true,
    "id": "4NQT_PwHmBrv"
   },
   "outputs": [],
   "source": [
    "import os\n",
    "from glob import glob\n",
    "\n",
    "# Synthetic scene to run. Choose from: [chair, drums, ficus, hotdog, lego, materials, mic, ship]\n",
    "scene = 'drums'\n",
    "\n",
    "############ Define ABSOLUTE paths ############\n",
    "\n",
    "# Abolute path in which the plenoctrees code is present. This path should contain the requirements.txt file\n",
    "path_code=\"/content/drive/MyDrive/plenoctree\" \n",
    "\n",
    "# Change directory to where the code resides\n",
    "%cd {path_code}\n",
    "%ls\n",
    "\n",
    "# Data folder\n",
    "path_data=os.getcwd()+f'/data/NeRF_Data/nerf_synthetic/{scene}/'\n",
    "\n",
    "# Folder to store checkpoints and other outputs\n",
    "path_checkpoint=os.getcwd()+f\"/data/pretrained/jaxnerf/{scene}/\"\n",
    "\n",
    "# Path to the configuration file. Note that this points to a .yaml file. \n",
    "# Input the entire path until the name of the yaml file.\n",
    "# For example, if the file path is: /users/documents/config.yaml --> path_config = /users/documents/config\n",
    "path_config=os.getcwd()+'/nerf_sh/config/misc/proj'"
   ]
  },
  {
   "cell_type": "markdown",
   "metadata": {
    "heading_collapsed": true,
    "id": "wEFEEgGTwp5T"
   },
   "source": [
    "# Install dependencies"
   ]
  },
  {
   "cell_type": "code",
   "execution_count": 7,
   "metadata": {
    "colab": {
     "base_uri": "https://localhost:8080/"
    },
    "executionInfo": {
     "elapsed": 298452,
     "status": "ok",
     "timestamp": 1708521026144,
     "user": {
      "displayName": "Laura Forero",
      "userId": "12790703409779099082"
     },
     "user_tz": -60
    },
    "hidden": true,
    "id": "HF5Xg5WjwnIY",
    "outputId": "03b45f9b-c287-47c3-e21b-8c886f2c2a07"
   },
   "outputs": [
    {
     "name": "stdout",
     "output_type": "stream",
     "text": [
      "Requirement already satisfied: tensorboard in /usr/local/lib/python3.10/dist-packages (from -r requirements.txt (line 1)) (2.15.2)\n",
      "Requirement already satisfied: imageio in /usr/local/lib/python3.10/dist-packages (from -r requirements.txt (line 2)) (2.31.6)\n",
      "Requirement already satisfied: imageio-ffmpeg in /usr/local/lib/python3.10/dist-packages (from -r requirements.txt (line 3)) (0.4.9)\n",
      "Collecting ipdb (from -r requirements.txt (line 4))\n",
      "  Downloading ipdb-0.13.13-py3-none-any.whl (12 kB)\n",
      "Collecting lpips (from -r requirements.txt (line 5))\n",
      "  Downloading lpips-0.1.4-py3-none-any.whl (53 kB)\n",
      "\u001b[2K     \u001b[90m━━━━━━━━━━━━━━━━━━━━━━━━━━━━━━━━━━━━━━━━\u001b[0m \u001b[32m53.8/53.8 kB\u001b[0m \u001b[31m3.3 MB/s\u001b[0m eta \u001b[36m0:00:00\u001b[0m\n",
      "\u001b[?25hRequirement already satisfied: jax in /usr/local/lib/python3.10/dist-packages (from -r requirements.txt (line 6)) (0.4.23)\n",
      "Requirement already satisfied: jaxlib in /usr/local/lib/python3.10/dist-packages (from -r requirements.txt (line 7)) (0.4.23+cuda12.cudnn89)\n",
      "Requirement already satisfied: flax in /usr/local/lib/python3.10/dist-packages (from -r requirements.txt (line 8)) (0.8.1)\n",
      "Requirement already satisfied: opencv-python in /usr/local/lib/python3.10/dist-packages (from -r requirements.txt (line 9)) (4.8.0.76)\n",
      "Requirement already satisfied: Pillow in /usr/local/lib/python3.10/dist-packages (from -r requirements.txt (line 10)) (9.4.0)\n",
      "Requirement already satisfied: pyyaml in /usr/local/lib/python3.10/dist-packages (from -r requirements.txt (line 11)) (6.0.1)\n",
      "Collecting tensorflow==2.8.1 (from -r requirements.txt (line 12))\n",
      "  Downloading tensorflow-2.8.1-cp310-cp310-manylinux2010_x86_64.whl (498.0 MB)\n",
      "\u001b[2K     \u001b[90m━━━━━━━━━━━━━━━━━━━━━━━━━━━━━━━━━━━━━━━━\u001b[0m \u001b[32m498.0/498.0 MB\u001b[0m \u001b[31m3.0 MB/s\u001b[0m eta \u001b[36m0:00:00\u001b[0m\n",
      "\u001b[?25hCollecting pymcubes (from -r requirements.txt (line 13))\n",
      "  Downloading PyMCubes-0.1.4-cp310-cp310-manylinux_2_17_x86_64.manylinux2014_x86_64.whl (274 kB)\n",
      "\u001b[2K     \u001b[90m━━━━━━━━━━━━━━━━━━━━━━━━━━━━━━━━━━━━━━━━\u001b[0m \u001b[32m274.3/274.3 kB\u001b[0m \u001b[31m25.6 MB/s\u001b[0m eta \u001b[36m0:00:00\u001b[0m\n",
      "\u001b[?25hCollecting svox>=0.2.26 (from -r requirements.txt (line 14))\n",
      "  Downloading svox-0.2.32.tar.gz (43 kB)\n",
      "\u001b[2K     \u001b[90m━━━━━━━━━━━━━━━━━━━━━━━━━━━━━━━━━━━━━━━━\u001b[0m \u001b[32m43.7/43.7 kB\u001b[0m \u001b[31m6.7 MB/s\u001b[0m eta \u001b[36m0:00:00\u001b[0m\n",
      "\u001b[?25h  Preparing metadata (setup.py) ... \u001b[?25l\u001b[?25hdone\n",
      "Requirement already satisfied: tqdm in /usr/local/lib/python3.10/dist-packages (from -r requirements.txt (line 15)) (4.66.2)\n",
      "Collecting gpustat (from -r requirements.txt (line 16))\n",
      "  Downloading gpustat-1.1.1.tar.gz (98 kB)\n",
      "\u001b[2K     \u001b[90m━━━━━━━━━━━━━━━━━━━━━━━━━━━━━━━━━━━━━━━━\u001b[0m \u001b[32m98.1/98.1 kB\u001b[0m \u001b[31m15.9 MB/s\u001b[0m eta \u001b[36m0:00:00\u001b[0m\n",
      "\u001b[?25h  Installing build dependencies ... \u001b[?25l\u001b[?25hdone\n",
      "  Getting requirements to build wheel ... \u001b[?25l\u001b[?25hdone\n",
      "  Preparing metadata (pyproject.toml) ... \u001b[?25l\u001b[?25hdone\n",
      "Requirement already satisfied: optax in /usr/local/lib/python3.10/dist-packages (from -r requirements.txt (line 17)) (0.1.9)\n",
      "Requirement already satisfied: absl-py>=0.4.0 in /usr/local/lib/python3.10/dist-packages (from tensorflow==2.8.1->-r requirements.txt (line 12)) (1.4.0)\n",
      "Requirement already satisfied: astunparse>=1.6.0 in /usr/local/lib/python3.10/dist-packages (from tensorflow==2.8.1->-r requirements.txt (line 12)) (1.6.3)\n",
      "Requirement already satisfied: flatbuffers>=1.12 in /usr/local/lib/python3.10/dist-packages (from tensorflow==2.8.1->-r requirements.txt (line 12)) (23.5.26)\n",
      "Requirement already satisfied: gast>=0.2.1 in /usr/local/lib/python3.10/dist-packages (from tensorflow==2.8.1->-r requirements.txt (line 12)) (0.5.4)\n",
      "Requirement already satisfied: google-pasta>=0.1.1 in /usr/local/lib/python3.10/dist-packages (from tensorflow==2.8.1->-r requirements.txt (line 12)) (0.2.0)\n",
      "Requirement already satisfied: h5py>=2.9.0 in /usr/local/lib/python3.10/dist-packages (from tensorflow==2.8.1->-r requirements.txt (line 12)) (3.9.0)\n",
      "Collecting keras-preprocessing>=1.1.1 (from tensorflow==2.8.1->-r requirements.txt (line 12))\n",
      "  Downloading Keras_Preprocessing-1.1.2-py2.py3-none-any.whl (42 kB)\n",
      "\u001b[2K     \u001b[90m━━━━━━━━━━━━━━━━━━━━━━━━━━━━━━━━━━━━━━━━\u001b[0m \u001b[32m42.6/42.6 kB\u001b[0m \u001b[31m6.5 MB/s\u001b[0m eta \u001b[36m0:00:00\u001b[0m\n",
      "\u001b[?25hRequirement already satisfied: libclang>=9.0.1 in /usr/local/lib/python3.10/dist-packages (from tensorflow==2.8.1->-r requirements.txt (line 12)) (16.0.6)\n",
      "Requirement already satisfied: numpy>=1.20 in /usr/local/lib/python3.10/dist-packages (from tensorflow==2.8.1->-r requirements.txt (line 12)) (1.25.2)\n",
      "Requirement already satisfied: opt-einsum>=2.3.2 in /usr/local/lib/python3.10/dist-packages (from tensorflow==2.8.1->-r requirements.txt (line 12)) (3.3.0)\n",
      "Requirement already satisfied: protobuf>=3.9.2 in /usr/local/lib/python3.10/dist-packages (from tensorflow==2.8.1->-r requirements.txt (line 12)) (3.20.3)\n",
      "Requirement already satisfied: setuptools in /usr/local/lib/python3.10/dist-packages (from tensorflow==2.8.1->-r requirements.txt (line 12)) (67.7.2)\n",
      "Requirement already satisfied: six>=1.12.0 in /usr/local/lib/python3.10/dist-packages (from tensorflow==2.8.1->-r requirements.txt (line 12)) (1.16.0)\n",
      "Requirement already satisfied: termcolor>=1.1.0 in /usr/local/lib/python3.10/dist-packages (from tensorflow==2.8.1->-r requirements.txt (line 12)) (2.4.0)\n",
      "Requirement already satisfied: typing-extensions>=3.6.6 in /usr/local/lib/python3.10/dist-packages (from tensorflow==2.8.1->-r requirements.txt (line 12)) (4.9.0)\n",
      "Requirement already satisfied: wrapt>=1.11.0 in /usr/local/lib/python3.10/dist-packages (from tensorflow==2.8.1->-r requirements.txt (line 12)) (1.14.1)\n",
      "Collecting tensorboard (from -r requirements.txt (line 1))\n",
      "  Downloading tensorboard-2.8.0-py3-none-any.whl (5.8 MB)\n",
      "\u001b[2K     \u001b[90m━━━━━━━━━━━━━━━━━━━━━━━━━━━━━━━━━━━━━━━━\u001b[0m \u001b[32m5.8/5.8 MB\u001b[0m \u001b[31m99.1 MB/s\u001b[0m eta \u001b[36m0:00:00\u001b[0m\n",
      "\u001b[?25hCollecting tensorflow-estimator<2.9,>=2.8 (from tensorflow==2.8.1->-r requirements.txt (line 12))\n",
      "  Downloading tensorflow_estimator-2.8.0-py2.py3-none-any.whl (462 kB)\n",
      "\u001b[2K     \u001b[90m━━━━━━━━━━━━━━━━━━━━━━━━━━━━━━━━━━━━━━━━\u001b[0m \u001b[32m462.3/462.3 kB\u001b[0m \u001b[31m46.1 MB/s\u001b[0m eta \u001b[36m0:00:00\u001b[0m\n",
      "\u001b[?25hCollecting keras<2.9,>=2.8.0rc0 (from tensorflow==2.8.1->-r requirements.txt (line 12))\n",
      "  Downloading keras-2.8.0-py2.py3-none-any.whl (1.4 MB)\n",
      "\u001b[2K     \u001b[90m━━━━━━━━━━━━━━━━━━━━━━━━━━━━━━━━━━━━━━━━\u001b[0m \u001b[32m1.4/1.4 MB\u001b[0m \u001b[31m79.3 MB/s\u001b[0m eta \u001b[36m0:00:00\u001b[0m\n",
      "\u001b[?25hRequirement already satisfied: tensorflow-io-gcs-filesystem>=0.23.1 in /usr/local/lib/python3.10/dist-packages (from tensorflow==2.8.1->-r requirements.txt (line 12)) (0.36.0)\n",
      "Requirement already satisfied: grpcio<2.0,>=1.24.3 in /usr/local/lib/python3.10/dist-packages (from tensorflow==2.8.1->-r requirements.txt (line 12)) (1.60.1)\n",
      "Requirement already satisfied: google-auth<3,>=1.6.3 in /usr/local/lib/python3.10/dist-packages (from tensorboard->-r requirements.txt (line 1)) (2.27.0)\n",
      "Collecting google-auth-oauthlib<0.5,>=0.4.1 (from tensorboard->-r requirements.txt (line 1))\n",
      "  Downloading google_auth_oauthlib-0.4.6-py2.py3-none-any.whl (18 kB)\n",
      "Requirement already satisfied: markdown>=2.6.8 in /usr/local/lib/python3.10/dist-packages (from tensorboard->-r requirements.txt (line 1)) (3.5.2)\n",
      "Requirement already satisfied: requests<3,>=2.21.0 in /usr/local/lib/python3.10/dist-packages (from tensorboard->-r requirements.txt (line 1)) (2.31.0)\n",
      "Collecting tensorboard-data-server<0.7.0,>=0.6.0 (from tensorboard->-r requirements.txt (line 1))\n",
      "  Downloading tensorboard_data_server-0.6.1-py3-none-manylinux2010_x86_64.whl (4.9 MB)\n",
      "\u001b[2K     \u001b[90m━━━━━━━━━━━━━━━━━━━━━━━━━━━━━━━━━━━━━━━━\u001b[0m \u001b[32m4.9/4.9 MB\u001b[0m \u001b[31m90.0 MB/s\u001b[0m eta \u001b[36m0:00:00\u001b[0m\n",
      "\u001b[?25hCollecting tensorboard-plugin-wit>=1.6.0 (from tensorboard->-r requirements.txt (line 1))\n",
      "  Downloading tensorboard_plugin_wit-1.8.1-py3-none-any.whl (781 kB)\n",
      "\u001b[2K     \u001b[90m━━━━━━━━━━━━━━━━━━━━━━━━━━━━━━━━━━━━━━━━\u001b[0m \u001b[32m781.3/781.3 kB\u001b[0m \u001b[31m65.1 MB/s\u001b[0m eta \u001b[36m0:00:00\u001b[0m\n",
      "\u001b[?25hRequirement already satisfied: werkzeug>=0.11.15 in /usr/local/lib/python3.10/dist-packages (from tensorboard->-r requirements.txt (line 1)) (3.0.1)\n",
      "Requirement already satisfied: wheel>=0.26 in /usr/local/lib/python3.10/dist-packages (from tensorboard->-r requirements.txt (line 1)) (0.42.0)\n",
      "Requirement already satisfied: ipython>=7.31.1 in /usr/local/lib/python3.10/dist-packages (from ipdb->-r requirements.txt (line 4)) (7.34.0)\n",
      "Requirement already satisfied: tomli in /usr/local/lib/python3.10/dist-packages (from ipdb->-r requirements.txt (line 4)) (2.0.1)\n",
      "Requirement already satisfied: decorator in /usr/local/lib/python3.10/dist-packages (from ipdb->-r requirements.txt (line 4)) (4.4.2)\n",
      "Requirement already satisfied: torch>=0.4.0 in /usr/local/lib/python3.10/dist-packages (from lpips->-r requirements.txt (line 5)) (2.1.0+cu121)\n",
      "Requirement already satisfied: torchvision>=0.2.1 in /usr/local/lib/python3.10/dist-packages (from lpips->-r requirements.txt (line 5)) (0.16.0+cu121)\n",
      "Requirement already satisfied: scipy>=1.0.1 in /usr/local/lib/python3.10/dist-packages (from lpips->-r requirements.txt (line 5)) (1.11.4)\n",
      "Requirement already satisfied: ml-dtypes>=0.2.0 in /usr/local/lib/python3.10/dist-packages (from jax->-r requirements.txt (line 6)) (0.2.0)\n",
      "Requirement already satisfied: msgpack in /usr/local/lib/python3.10/dist-packages (from flax->-r requirements.txt (line 8)) (1.0.7)\n",
      "Requirement already satisfied: orbax-checkpoint in /usr/local/lib/python3.10/dist-packages (from flax->-r requirements.txt (line 8)) (0.4.4)\n",
      "Requirement already satisfied: tensorstore in /usr/local/lib/python3.10/dist-packages (from flax->-r requirements.txt (line 8)) (0.1.45)\n",
      "Requirement already satisfied: rich>=11.1 in /usr/local/lib/python3.10/dist-packages (from flax->-r requirements.txt (line 8)) (13.7.0)\n",
      "Collecting nvidia-ml-py>=11.450.129 (from gpustat->-r requirements.txt (line 16))\n",
      "  Downloading nvidia_ml_py-12.535.133-py3-none-any.whl (37 kB)\n",
      "Requirement already satisfied: psutil>=5.6.0 in /usr/local/lib/python3.10/dist-packages (from gpustat->-r requirements.txt (line 16)) (5.9.5)\n",
      "Collecting blessed>=1.17.1 (from gpustat->-r requirements.txt (line 16))\n",
      "  Downloading blessed-1.20.0-py2.py3-none-any.whl (58 kB)\n",
      "\u001b[2K     \u001b[90m━━━━━━━━━━━━━━━━━━━━━━━━━━━━━━━━━━━━━━━━\u001b[0m \u001b[32m58.4/58.4 kB\u001b[0m \u001b[31m9.6 MB/s\u001b[0m eta \u001b[36m0:00:00\u001b[0m\n",
      "\u001b[?25hRequirement already satisfied: chex>=0.1.7 in /usr/local/lib/python3.10/dist-packages (from optax->-r requirements.txt (line 17)) (0.1.85)\n",
      "Requirement already satisfied: wcwidth>=0.1.4 in /usr/local/lib/python3.10/dist-packages (from blessed>=1.17.1->gpustat->-r requirements.txt (line 16)) (0.2.13)\n",
      "Requirement already satisfied: toolz>=0.9.0 in /usr/local/lib/python3.10/dist-packages (from chex>=0.1.7->optax->-r requirements.txt (line 17)) (0.12.1)\n",
      "Requirement already satisfied: cachetools<6.0,>=2.0.0 in /usr/local/lib/python3.10/dist-packages (from google-auth<3,>=1.6.3->tensorboard->-r requirements.txt (line 1)) (5.3.2)\n",
      "Requirement already satisfied: pyasn1-modules>=0.2.1 in /usr/local/lib/python3.10/dist-packages (from google-auth<3,>=1.6.3->tensorboard->-r requirements.txt (line 1)) (0.3.0)\n",
      "Requirement already satisfied: rsa<5,>=3.1.4 in /usr/local/lib/python3.10/dist-packages (from google-auth<3,>=1.6.3->tensorboard->-r requirements.txt (line 1)) (4.9)\n",
      "Requirement already satisfied: requests-oauthlib>=0.7.0 in /usr/local/lib/python3.10/dist-packages (from google-auth-oauthlib<0.5,>=0.4.1->tensorboard->-r requirements.txt (line 1)) (1.3.1)\n",
      "Collecting jedi>=0.16 (from ipython>=7.31.1->ipdb->-r requirements.txt (line 4))\n",
      "  Downloading jedi-0.19.1-py2.py3-none-any.whl (1.6 MB)\n",
      "\u001b[2K     \u001b[90m━━━━━━━━━━━━━━━━━━━━━━━━━━━━━━━━━━━━━━━━\u001b[0m \u001b[32m1.6/1.6 MB\u001b[0m \u001b[31m85.6 MB/s\u001b[0m eta \u001b[36m0:00:00\u001b[0m\n",
      "\u001b[?25hRequirement already satisfied: pickleshare in /usr/local/lib/python3.10/dist-packages (from ipython>=7.31.1->ipdb->-r requirements.txt (line 4)) (0.7.5)\n",
      "Requirement already satisfied: traitlets>=4.2 in /usr/local/lib/python3.10/dist-packages (from ipython>=7.31.1->ipdb->-r requirements.txt (line 4)) (5.7.1)\n",
      "Requirement already satisfied: prompt-toolkit!=3.0.0,!=3.0.1,<3.1.0,>=2.0.0 in /usr/local/lib/python3.10/dist-packages (from ipython>=7.31.1->ipdb->-r requirements.txt (line 4)) (3.0.43)\n",
      "Requirement already satisfied: pygments in /usr/local/lib/python3.10/dist-packages (from ipython>=7.31.1->ipdb->-r requirements.txt (line 4)) (2.16.1)\n",
      "Requirement already satisfied: backcall in /usr/local/lib/python3.10/dist-packages (from ipython>=7.31.1->ipdb->-r requirements.txt (line 4)) (0.2.0)\n",
      "Requirement already satisfied: matplotlib-inline in /usr/local/lib/python3.10/dist-packages (from ipython>=7.31.1->ipdb->-r requirements.txt (line 4)) (0.1.6)\n",
      "Requirement already satisfied: pexpect>4.3 in /usr/local/lib/python3.10/dist-packages (from ipython>=7.31.1->ipdb->-r requirements.txt (line 4)) (4.9.0)\n",
      "Requirement already satisfied: charset-normalizer<4,>=2 in /usr/local/lib/python3.10/dist-packages (from requests<3,>=2.21.0->tensorboard->-r requirements.txt (line 1)) (3.3.2)\n",
      "Requirement already satisfied: idna<4,>=2.5 in /usr/local/lib/python3.10/dist-packages (from requests<3,>=2.21.0->tensorboard->-r requirements.txt (line 1)) (3.6)\n",
      "Requirement already satisfied: urllib3<3,>=1.21.1 in /usr/local/lib/python3.10/dist-packages (from requests<3,>=2.21.0->tensorboard->-r requirements.txt (line 1)) (2.0.7)\n",
      "Requirement already satisfied: certifi>=2017.4.17 in /usr/local/lib/python3.10/dist-packages (from requests<3,>=2.21.0->tensorboard->-r requirements.txt (line 1)) (2024.2.2)\n",
      "Requirement already satisfied: markdown-it-py>=2.2.0 in /usr/local/lib/python3.10/dist-packages (from rich>=11.1->flax->-r requirements.txt (line 8)) (3.0.0)\n",
      "Requirement already satisfied: filelock in /usr/local/lib/python3.10/dist-packages (from torch>=0.4.0->lpips->-r requirements.txt (line 5)) (3.13.1)\n",
      "Requirement already satisfied: sympy in /usr/local/lib/python3.10/dist-packages (from torch>=0.4.0->lpips->-r requirements.txt (line 5)) (1.12)\n",
      "Requirement already satisfied: networkx in /usr/local/lib/python3.10/dist-packages (from torch>=0.4.0->lpips->-r requirements.txt (line 5)) (3.2.1)\n",
      "Requirement already satisfied: jinja2 in /usr/local/lib/python3.10/dist-packages (from torch>=0.4.0->lpips->-r requirements.txt (line 5)) (3.1.3)\n",
      "Requirement already satisfied: fsspec in /usr/local/lib/python3.10/dist-packages (from torch>=0.4.0->lpips->-r requirements.txt (line 5)) (2023.6.0)\n",
      "Requirement already satisfied: triton==2.1.0 in /usr/local/lib/python3.10/dist-packages (from torch>=0.4.0->lpips->-r requirements.txt (line 5)) (2.1.0)\n",
      "Requirement already satisfied: MarkupSafe>=2.1.1 in /usr/local/lib/python3.10/dist-packages (from werkzeug>=0.11.15->tensorboard->-r requirements.txt (line 1)) (2.1.5)\n",
      "Requirement already satisfied: etils[epath,epy] in /usr/local/lib/python3.10/dist-packages (from orbax-checkpoint->flax->-r requirements.txt (line 8)) (1.7.0)\n",
      "Requirement already satisfied: nest_asyncio in /usr/local/lib/python3.10/dist-packages (from orbax-checkpoint->flax->-r requirements.txt (line 8)) (1.6.0)\n",
      "Requirement already satisfied: parso<0.9.0,>=0.8.3 in /usr/local/lib/python3.10/dist-packages (from jedi>=0.16->ipython>=7.31.1->ipdb->-r requirements.txt (line 4)) (0.8.3)\n",
      "Requirement already satisfied: mdurl~=0.1 in /usr/local/lib/python3.10/dist-packages (from markdown-it-py>=2.2.0->rich>=11.1->flax->-r requirements.txt (line 8)) (0.1.2)\n",
      "Requirement already satisfied: ptyprocess>=0.5 in /usr/local/lib/python3.10/dist-packages (from pexpect>4.3->ipython>=7.31.1->ipdb->-r requirements.txt (line 4)) (0.7.0)\n",
      "Requirement already satisfied: pyasn1<0.6.0,>=0.4.6 in /usr/local/lib/python3.10/dist-packages (from pyasn1-modules>=0.2.1->google-auth<3,>=1.6.3->tensorboard->-r requirements.txt (line 1)) (0.5.1)\n",
      "Requirement already satisfied: oauthlib>=3.0.0 in /usr/local/lib/python3.10/dist-packages (from requests-oauthlib>=0.7.0->google-auth-oauthlib<0.5,>=0.4.1->tensorboard->-r requirements.txt (line 1)) (3.2.2)\n",
      "Requirement already satisfied: importlib_resources in /usr/local/lib/python3.10/dist-packages (from etils[epath,epy]->orbax-checkpoint->flax->-r requirements.txt (line 8)) (6.1.1)\n",
      "Requirement already satisfied: zipp in /usr/local/lib/python3.10/dist-packages (from etils[epath,epy]->orbax-checkpoint->flax->-r requirements.txt (line 8)) (3.17.0)\n",
      "Requirement already satisfied: mpmath>=0.19 in /usr/local/lib/python3.10/dist-packages (from sympy->torch>=0.4.0->lpips->-r requirements.txt (line 5)) (1.3.0)\n",
      "Building wheels for collected packages: svox, gpustat\n",
      "  Building wheel for svox (setup.py) ... \u001b[?25l\u001b[?25hdone\n",
      "  Created wheel for svox: filename=svox-0.2.32-cp310-cp310-linux_x86_64.whl size=5136770 sha256=7f61388575cba7895e1bc163272f0a7c498856325e32ea881860fec4b447ec05\n",
      "  Stored in directory: /root/.cache/pip/wheels/af/8e/73/31c06f0d7366f1ff67d774fdfe69ec0d803fb901efa9dddfaf\n",
      "  Building wheel for gpustat (pyproject.toml) ... \u001b[?25l\u001b[?25hdone\n",
      "  Created wheel for gpustat: filename=gpustat-1.1.1-py3-none-any.whl size=26535 sha256=0e56707723d477a4c3ed9268129489d4c81eaff98e69225d17e4afbe5be8a6e6\n",
      "  Stored in directory: /root/.cache/pip/wheels/ec/d7/80/a71ba3540900e1f276bcae685efd8e590c810d2108b95f1e47\n",
      "Successfully built svox gpustat\n",
      "Installing collected packages: tensorflow-estimator, tensorboard-plugin-wit, svox, nvidia-ml-py, keras, tensorboard-data-server, keras-preprocessing, jedi, blessed, pymcubes, gpustat, ipdb, google-auth-oauthlib, tensorboard, lpips, tensorflow\n",
      "  Attempting uninstall: tensorflow-estimator\n",
      "    Found existing installation: tensorflow-estimator 2.15.0\n",
      "    Uninstalling tensorflow-estimator-2.15.0:\n",
      "      Successfully uninstalled tensorflow-estimator-2.15.0\n",
      "  Attempting uninstall: keras\n",
      "    Found existing installation: keras 2.15.0\n",
      "    Uninstalling keras-2.15.0:\n",
      "      Successfully uninstalled keras-2.15.0\n",
      "  Attempting uninstall: tensorboard-data-server\n",
      "    Found existing installation: tensorboard-data-server 0.7.2\n",
      "    Uninstalling tensorboard-data-server-0.7.2:\n",
      "      Successfully uninstalled tensorboard-data-server-0.7.2\n",
      "  Attempting uninstall: google-auth-oauthlib\n",
      "    Found existing installation: google-auth-oauthlib 1.2.0\n",
      "    Uninstalling google-auth-oauthlib-1.2.0:\n",
      "      Successfully uninstalled google-auth-oauthlib-1.2.0\n",
      "  Attempting uninstall: tensorboard\n",
      "    Found existing installation: tensorboard 2.15.2\n",
      "    Uninstalling tensorboard-2.15.2:\n",
      "      Successfully uninstalled tensorboard-2.15.2\n",
      "  Attempting uninstall: tensorflow\n",
      "    Found existing installation: tensorflow 2.15.0\n",
      "    Uninstalling tensorflow-2.15.0:\n",
      "      Successfully uninstalled tensorflow-2.15.0\n",
      "\u001b[31mERROR: pip's dependency resolver does not currently take into account all the packages that are installed. This behaviour is the source of the following dependency conflicts.\n",
      "pandas-gbq 0.19.2 requires google-auth-oauthlib>=0.7.0, but you have google-auth-oauthlib 0.4.6 which is incompatible.\u001b[0m\u001b[31m\n",
      "\u001b[0mSuccessfully installed blessed-1.20.0 google-auth-oauthlib-0.4.6 gpustat-1.1.1 ipdb-0.13.13 jedi-0.19.1 keras-2.8.0 keras-preprocessing-1.1.2 lpips-0.1.4 nvidia-ml-py-12.535.133 pymcubes-0.1.4 svox-0.2.32 tensorboard-2.8.0 tensorboard-data-server-0.6.1 tensorboard-plugin-wit-1.8.1 tensorflow-2.8.1 tensorflow-estimator-2.8.0\n"
     ]
    }
   ],
   "source": [
    "!pip install -r requirements.txt"
   ]
  },
  {
   "cell_type": "code",
   "execution_count": 8,
   "metadata": {
    "colab": {
     "base_uri": "https://localhost:8080/"
    },
    "executionInfo": {
     "elapsed": 6618,
     "status": "ok",
     "timestamp": 1708521032742,
     "user": {
      "displayName": "Laura Forero",
      "userId": "12790703409779099082"
     },
     "user_tz": -60
    },
    "hidden": true,
    "id": "7eh3gwQFwnL6",
    "outputId": "4ff57f7c-6e9e-41a6-e4d7-e4b854179926",
    "scrolled": true
   },
   "outputs": [
    {
     "name": "stdout",
     "output_type": "stream",
     "text": [
      "Name: jax\n",
      "Version: 0.4.23\n",
      "Summary: Differentiate, compile, and transform Numpy code.\n",
      "Home-page: https://github.com/google/jax\n",
      "Author: JAX team\n",
      "Author-email: jax-dev@google.com\n",
      "License: Apache-2.0\n",
      "Location: /usr/local/lib/python3.10/dist-packages\n",
      "Requires: ml-dtypes, numpy, opt-einsum, scipy\n",
      "Required-by: chex, dopamine-rl, flax, optax, orbax-checkpoint\n",
      "---\n",
      "Name: jaxlib\n",
      "Version: 0.4.23+cuda12.cudnn89\n",
      "Summary: XLA library for JAX\n",
      "Home-page: https://github.com/google/jax\n",
      "Author: JAX team\n",
      "Author-email: jax-dev@google.com\n",
      "License: Apache-2.0\n",
      "Location: /usr/local/lib/python3.10/dist-packages\n",
      "Requires: ml-dtypes, numpy, scipy\n",
      "Required-by: chex, dopamine-rl, optax, orbax-checkpoint\n",
      "---\n",
      "Name: flax\n",
      "Version: 0.8.1\n",
      "Summary: Flax: A neural network library for JAX designed for flexibility\n",
      "Home-page: \n",
      "Author: \n",
      "Author-email: Flax team <flax-dev@google.com>\n",
      "License: \n",
      "Location: /usr/local/lib/python3.10/dist-packages\n",
      "Requires: jax, msgpack, numpy, optax, orbax-checkpoint, PyYAML, rich, tensorstore, typing-extensions\n",
      "Required-by: dopamine-rl\n",
      "---\n",
      "Name: optax\n",
      "Version: 0.1.9\n",
      "Summary: A gradient processing and optimisation library in JAX.\n",
      "Home-page: \n",
      "Author: \n",
      "Author-email: DeepMind <optax-dev@google.com>\n",
      "License: \n",
      "Location: /usr/local/lib/python3.10/dist-packages\n",
      "Requires: absl-py, chex, jax, jaxlib, numpy\n",
      "Required-by: flax\n",
      "---\n",
      "Name: svox\n",
      "Version: 0.2.32\n",
      "Summary: Sparse voxel N^3-tree data structure using CUDA\n",
      "Home-page: \n",
      "Author: Alex Yu\n",
      "Author-email: alexyu99126@gmail.com\n",
      "License: \n",
      "Location: /usr/local/lib/python3.10/dist-packages\n",
      "Requires: \n",
      "Required-by: \n",
      "---\n",
      "Name: gpustat\n",
      "Version: 1.1.1\n",
      "Summary: An utility to monitor NVIDIA GPU status and usage\n",
      "Home-page: https://github.com/wookayin/gpustat\n",
      "Author: Jongwook Choi\n",
      "Author-email: wookayin@gmail.com\n",
      "License: MIT\n",
      "Location: /usr/local/lib/python3.10/dist-packages\n",
      "Requires: blessed, nvidia-ml-py, psutil\n",
      "Required-by: \n"
     ]
    }
   ],
   "source": [
    "!pip show jax jaxlib flax optax svox gpustat"
   ]
  },
  {
   "cell_type": "markdown",
   "metadata": {
    "heading_collapsed": true,
    "id": "9APzZAW50vpH"
   },
   "source": [
    "# Conversion of Vanilla JaxNeRF to PlenOctrees"
   ]
  },
  {
   "cell_type": "code",
   "execution_count": null,
   "metadata": {
    "colab": {
     "base_uri": "https://localhost:8080/"
    },
    "executionInfo": {
     "elapsed": 6039619,
     "status": "ok",
     "timestamp": 1708389017044,
     "user": {
      "displayName": "Adina Faye Bondoc",
      "userId": "12517303810383213336"
     },
     "user_tz": -60
    },
    "hidden": true,
    "id": "IddLlujIMY-_",
    "outputId": "c15676ba-4c09-4a46-acc7-21631be58780",
    "scrolled": true
   },
   "outputs": [],
   "source": [
    "%%time\n",
    "\n",
    "# Extract octrees from nerfsh. \n",
    "!python -m octree.extraction \\\n",
    "    --train_dir {path_checkpoint} --is_jaxnerf_ckpt \\\n",
    "    --config {path_config} \\\n",
    "    --data_dir {path_data} \\\n",
    "    --output {path_checkpoint}/octrees/tree.npz \\\n",
    "    --projection_samples 5000 \\\n",
    "    --radius 1.3"
   ]
  },
  {
   "cell_type": "code",
   "execution_count": null,
   "metadata": {
    "colab": {
     "base_uri": "https://localhost:8080/"
    },
    "executionInfo": {
     "elapsed": 1108289,
     "status": "ok",
     "timestamp": 1708390125330,
     "user": {
      "displayName": "Adina Faye Bondoc",
      "userId": "12517303810383213336"
     },
     "user_tz": -60
    },
    "hidden": true,
    "id": "-ylLkVpoMY_A",
    "outputId": "750ff58d-783e-451d-a810-80233945c3b6"
   },
   "outputs": [],
   "source": [
    "%%time\n",
    "# Optimize octrees\n",
    "!python -m octree.optimization \\\n",
    "    --input {path_checkpoint}/octrees/tree.npz \\\n",
    "    --config {path_config} \\\n",
    "    --data_dir {path_data} \\\n",
    "    --output {path_checkpoint}/octrees/tree_opt.npz \\\n",
    "    --train_dir {path_checkpoint}"
   ]
  },
  {
   "cell_type": "code",
   "execution_count": null,
   "metadata": {
    "colab": {
     "base_uri": "https://localhost:8080/"
    },
    "executionInfo": {
     "elapsed": 81067,
     "status": "ok",
     "timestamp": 1708390206389,
     "user": {
      "displayName": "Adina Faye Bondoc",
      "userId": "12517303810383213336"
     },
     "user_tz": -60
    },
    "hidden": true,
    "id": "mQ1NNc64MY_A",
    "outputId": "e7f17987-bd1e-4d84-dcf3-103cb11587c1"
   },
   "outputs": [],
   "source": [
    "%%time\n",
    "# Evaluate octrees vs test set\n",
    "#! add train dir to save images\n",
    "!python -m octree.evaluation \\\n",
    "    --input {path_checkpoint}/octrees/tree_opt.npz \\\n",
    "    --config {path_config} \\\n",
    "    --data_dir {path_data} \\\n",
    "    --write_images {path_checkpoint}/octrees/tree_render \\\n",
    "    --write_vid {path_checkpoint}/octrees/tree_render/rendered.mp4"
   ]
  },
  {
   "cell_type": "code",
   "execution_count": null,
   "metadata": {
    "colab": {
     "base_uri": "https://localhost:8080/"
    },
    "executionInfo": {
     "elapsed": 37629,
     "status": "ok",
     "timestamp": 1708390244006,
     "user": {
      "displayName": "Adina Faye Bondoc",
      "userId": "12517303810383213336"
     },
     "user_tz": -60
    },
    "hidden": true,
    "id": "ICKvMznLMY_A",
    "outputId": "8ac71fae-12cf-48d2-cfcb-3af5c7c5e93f"
   },
   "outputs": [],
   "source": [
    "%%time\n",
    "# [Optional] Only used for in-browser viewing.\n",
    "!python -m octree.compression \\\n",
    "    {path_checkpoint}/octrees/tree_opt.npz \\\n",
    "    --out_dir {path_checkpoint} \\\n",
    "    --overwrite"
   ]
  }
 ],
 "metadata": {
  "accelerator": "GPU",
  "colab": {
   "collapsed_sections": [
    "o6Dq1MQwwn3H",
    "wEFEEgGTwp5T",
    "jyykJ7vN5rKm",
    "R3maCgqGkHAl",
    "pHmcSEbD0mIX",
    "TZH0Uebb1Chz",
    "HFWBBQEbjNa3",
    "y6xkDdlkjUwF",
    "DNu_QJtNFKYo",
    "JTxHbwREMWhz",
    "kV57C7GDMY-3"
   ],
   "gpuType": "V100",
   "provenance": []
  },
  "kernelspec": {
   "display_name": "Python 3 (ipykernel)",
   "language": "python",
   "name": "python3"
  },
  "language_info": {
   "codemirror_mode": {
    "name": "ipython",
    "version": 3
   },
   "file_extension": ".py",
   "mimetype": "text/x-python",
   "name": "python",
   "nbconvert_exporter": "python",
   "pygments_lexer": "ipython3",
   "version": "3.9.13"
  },
  "varInspector": {
   "cols": {
    "lenName": 16,
    "lenType": 16,
    "lenVar": 40
   },
   "kernels_config": {
    "python": {
     "delete_cmd_postfix": "",
     "delete_cmd_prefix": "del ",
     "library": "var_list.py",
     "varRefreshCmd": "print(var_dic_list())"
    },
    "r": {
     "delete_cmd_postfix": ") ",
     "delete_cmd_prefix": "rm(",
     "library": "var_list.r",
     "varRefreshCmd": "cat(var_dic_list()) "
    }
   },
   "types_to_exclude": [
    "module",
    "function",
    "builtin_function_or_method",
    "instance",
    "_Feature"
   ],
   "window_display": false
  }
 },
 "nbformat": 4,
 "nbformat_minor": 1
}
