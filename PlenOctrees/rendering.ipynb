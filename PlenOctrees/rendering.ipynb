{
 "cells": [
  {
   "cell_type": "markdown",
   "id": "ac3e1023",
   "metadata": {},
   "source": [
    "Note that this notebook must be run in the same folder as nerfvis since functions will be imported from that module.\n",
    "\n",
    "This notebook takes as input a plenoctree file (.npz) and renders this in the browser, using the defined port number below."
   ]
  },
  {
   "cell_type": "markdown",
   "id": "935b267c",
   "metadata": {},
   "source": [
    "# Setup & Input"
   ]
  },
  {
   "cell_type": "code",
   "execution_count": null,
   "id": "31f0b3e6",
   "metadata": {
    "ExecuteTime": {
     "end_time": "2024-02-28T06:18:02.830606Z",
     "start_time": "2024-02-28T06:18:00.990476Z"
    }
   },
   "outputs": [],
   "source": [
    "import os\n",
    "from nerfvis.nerfvis import scene"
   ]
  },
  {
   "cell_type": "code",
   "execution_count": null,
   "id": "ee3deb20",
   "metadata": {
    "ExecuteTime": {
     "end_time": "2024-02-28T06:19:38.106140Z",
     "start_time": "2024-02-28T06:19:38.101140Z"
    }
   },
   "outputs": [],
   "source": [
    "file=r'C:\\Users\\pretrained-nerf\\jaxnerf\\blender\\drums\\tree_opt.npz'\n",
    "scene_title='Drums from Pretrained JaxNeRF'\n",
    "scene_label='Drums-JaxNeRF'\n",
    "port_number=8894"
   ]
  },
  {
   "cell_type": "markdown",
   "id": "19721dd9",
   "metadata": {},
   "source": [
    "# Rendering"
   ]
  },
  {
   "cell_type": "code",
   "execution_count": null,
   "id": "b57b1d2b",
   "metadata": {
    "ExecuteTime": {
     "end_time": "2024-02-28T06:20:10.204399Z",
     "start_time": "2024-02-28T06:19:39.402147Z"
    }
   },
   "outputs": [],
   "source": [
    "# file='../output/chair/octrees/tree.npz'\n",
    "scene.set_title(scene_title)\n",
    "scene.add_volume_from_npz(scene_label, file, scale=1.0)\n",
    "scene.display(port=port_number, open_browser=True) # or embed() to view in this same notebook."
   ]
  }
 ],
 "metadata": {
  "kernelspec": {
   "display_name": "Python 3 (ipykernel)",
   "language": "python",
   "name": "python3"
  },
  "language_info": {
   "codemirror_mode": {
    "name": "ipython",
    "version": 3
   },
   "file_extension": ".py",
   "mimetype": "text/x-python",
   "name": "python",
   "nbconvert_exporter": "python",
   "pygments_lexer": "ipython3",
   "version": "3.9.13"
  },
  "varInspector": {
   "cols": {
    "lenName": 16,
    "lenType": 16,
    "lenVar": 40
   },
   "kernels_config": {
    "python": {
     "delete_cmd_postfix": "",
     "delete_cmd_prefix": "del ",
     "library": "var_list.py",
     "varRefreshCmd": "print(var_dic_list())"
    },
    "r": {
     "delete_cmd_postfix": ") ",
     "delete_cmd_prefix": "rm(",
     "library": "var_list.r",
     "varRefreshCmd": "cat(var_dic_list()) "
    }
   },
   "types_to_exclude": [
    "module",
    "function",
    "builtin_function_or_method",
    "instance",
    "_Feature"
   ],
   "window_display": false
  }
 },
 "nbformat": 4,
 "nbformat_minor": 5
}
