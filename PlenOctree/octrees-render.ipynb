{
 "cells": [
  {
   "cell_type": "code",
   "execution_count": 1,
   "id": "c77f2d70",
   "metadata": {
    "ExecuteTime": {
     "end_time": "2024-01-31T13:03:35.190182Z",
     "start_time": "2024-01-31T13:03:35.170190Z"
    }
   },
   "outputs": [],
   "source": [
    "import os\n",
    "# from nerfvis import scene"
   ]
  },
  {
   "cell_type": "code",
   "execution_count": 2,
   "id": "3b87120a",
   "metadata": {
    "ExecuteTime": {
     "end_time": "2024-01-31T13:03:35.206181Z",
     "start_time": "2024-01-31T13:03:35.193184Z"
    }
   },
   "outputs": [],
   "source": [
    "# import sys\n",
    "# sys.path.append('C:/Users/Adina Bondoc/Documents/Python/Masters/CS/BDRP/final')\n",
    "# from nerfvis2.nerfvis2 import scene"
   ]
  },
  {
   "cell_type": "code",
   "execution_count": 3,
   "id": "cbf41199",
   "metadata": {
    "ExecuteTime": {
     "end_time": "2024-01-31T13:03:35.837425Z",
     "start_time": "2024-01-31T13:03:35.209181Z"
    }
   },
   "outputs": [],
   "source": [
    "from nerfvis2.nerfvis2 import scene"
   ]
  },
  {
   "cell_type": "code",
   "execution_count": 4,
   "id": "5df11344",
   "metadata": {
    "ExecuteTime": {
     "end_time": "2024-01-31T13:03:35.853433Z",
     "start_time": "2024-01-31T13:03:35.841438Z"
    }
   },
   "outputs": [],
   "source": [
    "# !pip install -r nerfvis2/requirements.txt"
   ]
  },
  {
   "cell_type": "markdown",
   "id": "f5a65669",
   "metadata": {},
   "source": [
    "# Extracted from pretrained jaxnerf"
   ]
  },
  {
   "cell_type": "code",
   "execution_count": 3,
   "id": "06600461",
   "metadata": {
    "ExecuteTime": {
     "end_time": "2024-01-30T22:14:35.627376Z",
     "start_time": "2024-01-30T22:13:17.801569Z"
    }
   },
   "outputs": [
    {
     "name": "stdout",
     "output_type": "stream",
     "text": [
      "Serving localhost:8890\n"
     ]
    },
    {
     "name": "stderr",
     "output_type": "stream",
     "text": [
      "127.0.0.1 - - [30/Jan/2024 23:13:35] \"GET / HTTP/1.1\" 200 -\n",
      "127.0.0.1 - - [30/Jan/2024 23:13:35] \"GET /volrend.draw.npz HTTP/1.1\" 200 -\n"
     ]
    },
    {
     "name": "stdout",
     "output_type": "stream",
     "text": [
      "nervfvis-server interrupted\n"
     ]
    },
    {
     "data": {
      "text/plain": [
       "('nerfvis_scenes\\\\ChairfromPretrainedJaxNeRF', 'http://localhost:8890')"
      ]
     },
     "execution_count": 3,
     "metadata": {},
     "output_type": "execute_result"
    }
   ],
   "source": [
    "# # file='../output/chair/octrees/tree.npz'\n",
    "# file=r'C:\\Users\\Adina Bondoc\\Documents\\Python\\Masters\\CS\\BDRP\\final\\output\\pretrained-nerf\\jaxnerf\\blender\\chair\\tree_opt_compressed.npz'\n",
    "# scene.set_title(\"Chair from Pretrained JaxNeRF\")\n",
    "# scene.add_volume_from_npz('Chair', file, scale=1.0)\n",
    "# scene.display(port=8890, open_browser=True) # or embed(), etc"
   ]
  },
  {
   "cell_type": "code",
   "execution_count": null,
   "id": "0c241ae6",
   "metadata": {
    "ExecuteTime": {
     "start_time": "2024-01-31T13:03:50.346Z"
    }
   },
   "outputs": [
    {
     "name": "stdout",
     "output_type": "stream",
     "text": [
      "Serving localhost:8894\n"
     ]
    },
    {
     "name": "stderr",
     "output_type": "stream",
     "text": [
      "127.0.0.1 - - [31/Jan/2024 14:04:10] \"GET / HTTP/1.1\" 200 -\n",
      "127.0.0.1 - - [31/Jan/2024 14:04:11] \"GET /volrend.draw.npz HTTP/1.1\" 200 -\n",
      "127.0.0.1 - - [31/Jan/2024 14:05:33] \"GET / HTTP/1.1\" 304 -\n",
      "127.0.0.1 - - [31/Jan/2024 14:05:34] \"GET /volrend.draw.npz HTTP/1.1\" 200 -\n"
     ]
    }
   ],
   "source": [
    "# file='../output/chair/octrees/tree.npz'\n",
    "file=r'C:\\Users\\Adina Bondoc\\Documents\\Python\\Masters\\CS\\BDRP\\final\\output\\pretrained-nerf\\jaxnerf\\blender\\drums\\tree_opt_compressed.npz'\n",
    "scene.set_title(\"Drums from Pretrained JaxNeRF\")\n",
    "scene.add_volume_from_npz('Drums-Jaxnerf', file, scale=1.0)\n",
    "\n",
    "# file=r'C:\\Users\\Adina Bondoc\\Documents\\Python\\Masters\\CS\\BDRP\\final\\output\\pretrained-octrees\\pretrained-web\\drums.npz'\n",
    "# scene.add_volume_from_npz('Drums-pretrained', file, scale=1.0)\n",
    "\n",
    "scene.display(port=8894, open_browser=True) # or embed(), etc"
   ]
  },
  {
   "cell_type": "markdown",
   "id": "19e71861",
   "metadata": {},
   "source": [
    "# Pre-trained for web"
   ]
  },
  {
   "cell_type": "code",
   "execution_count": 3,
   "id": "4aab7bae",
   "metadata": {
    "ExecuteTime": {
     "end_time": "2024-01-30T21:52:50.557923Z",
     "start_time": "2024-01-30T21:50:45.330463Z"
    }
   },
   "outputs": [
    {
     "name": "stdout",
     "output_type": "stream",
     "text": [
      "Serving localhost:8893\n"
     ]
    },
    {
     "name": "stderr",
     "output_type": "stream",
     "text": [
      "127.0.0.1 - - [30/Jan/2024 22:51:05] \"GET / HTTP/1.1\" 200 -\n",
      "127.0.0.1 - - [30/Jan/2024 22:51:05] \"GET /volrend.draw.npz HTTP/1.1\" 200 -\n"
     ]
    },
    {
     "name": "stdout",
     "output_type": "stream",
     "text": [
      "nervfvis-server interrupted\n"
     ]
    },
    {
     "data": {
      "text/plain": [
       "('nerfvis_scenes\\\\PretrainedPlenoctreechair', 'http://localhost:8893')"
      ]
     },
     "execution_count": 3,
     "metadata": {},
     "output_type": "execute_result"
    }
   ],
   "source": [
    "# # file='../output/chair/octrees/tree.npz'\n",
    "# file=r'C:\\Users\\Adina Bondoc\\Documents\\Python\\Masters\\CS\\BDRP\\final\\output\\pretrained-octrees\\pretrained-web\\chair.npz'\n",
    "# scene.set_title(\"Pretrained Plenoctree chair\")\n",
    "# scene.set_opencv()\n",
    "\n",
    "# scene.add_volume_from_npz('Chair-pretrained', file, scale=1.0)\n",
    "# scene.display(port=8893, open_browser=True) # or embed(), etc"
   ]
  },
  {
   "cell_type": "code",
   "execution_count": 5,
   "id": "cde31563",
   "metadata": {
    "ExecuteTime": {
     "end_time": "2024-01-30T22:31:01.633685Z",
     "start_time": "2024-01-30T22:29:35.928083Z"
    }
   },
   "outputs": [
    {
     "name": "stdout",
     "output_type": "stream",
     "text": [
      "Serving localhost:8891\n"
     ]
    },
    {
     "name": "stderr",
     "output_type": "stream",
     "text": [
      "127.0.0.1 - - [30/Jan/2024 23:30:00] \"GET / HTTP/1.1\" 200 -\n",
      "127.0.0.1 - - [30/Jan/2024 23:30:01] \"GET /volrend.draw.npz HTTP/1.1\" 200 -\n"
     ]
    },
    {
     "name": "stdout",
     "output_type": "stream",
     "text": [
      "nervfvis-server interrupted\n"
     ]
    },
    {
     "data": {
      "text/plain": [
       "('nerfvis_scenes\\\\PretrainedPlenoctreedrums', 'http://localhost:8891')"
      ]
     },
     "execution_count": 5,
     "metadata": {},
     "output_type": "execute_result"
    }
   ],
   "source": [
    "# # file='../output/chair/octrees/tree.npz'\n",
    "# file=r'C:\\Users\\Adina Bondoc\\Documents\\Python\\Masters\\CS\\BDRP\\final\\output\\pretrained-octrees\\pretrained-web\\drums.npz'\n",
    "# scene.set_title(\"Pretrained Plenoctree drums\")\n",
    "# scene.add_volume_from_npz('Drums-pretrained', file, scale=1.0)\n",
    "# scene.display(port=8891, open_browser=True) # or embed(), etc"
   ]
  },
  {
   "cell_type": "code",
   "execution_count": null,
   "id": "8d1966ae",
   "metadata": {
    "ExecuteTime": {
     "end_time": "2024-01-30T20:22:08.945444Z",
     "start_time": "2024-01-30T20:22:08.789802Z"
    }
   },
   "outputs": [],
   "source": []
  }
 ],
 "metadata": {
  "kernelspec": {
   "display_name": "Python 3 (ipykernel)",
   "language": "python",
   "name": "python3"
  },
  "language_info": {
   "codemirror_mode": {
    "name": "ipython",
    "version": 3
   },
   "file_extension": ".py",
   "mimetype": "text/x-python",
   "name": "python",
   "nbconvert_exporter": "python",
   "pygments_lexer": "ipython3",
   "version": "3.10.8"
  },
  "varInspector": {
   "cols": {
    "lenName": 16,
    "lenType": 16,
    "lenVar": 40
   },
   "kernels_config": {
    "python": {
     "delete_cmd_postfix": "",
     "delete_cmd_prefix": "del ",
     "library": "var_list.py",
     "varRefreshCmd": "print(var_dic_list())"
    },
    "r": {
     "delete_cmd_postfix": ") ",
     "delete_cmd_prefix": "rm(",
     "library": "var_list.r",
     "varRefreshCmd": "cat(var_dic_list()) "
    }
   },
   "types_to_exclude": [
    "module",
    "function",
    "builtin_function_or_method",
    "instance",
    "_Feature"
   ],
   "window_display": false
  }
 },
 "nbformat": 4,
 "nbformat_minor": 5
}
